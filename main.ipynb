{
 "cells": [
  {
   "cell_type": "markdown",
   "metadata": {},
   "source": [
    "### BCD to Seven Segment Using MLP"
   ]
  },
  {
   "cell_type": "markdown",
   "metadata": {},
   "source": [
    "#### Setup"
   ]
  },
  {
   "cell_type": "code",
   "execution_count": 1,
   "metadata": {},
   "outputs": [],
   "source": [
    "import numpy as np\n",
    "from sklearn.neural_network import MLPClassifier"
   ]
  },
  {
   "cell_type": "markdown",
   "metadata": {},
   "source": [
    "#### Generate Input And Output"
   ]
  },
  {
   "cell_type": "code",
   "execution_count": 2,
   "metadata": {},
   "outputs": [],
   "source": [
    "#\tl: low\n",
    "#\th: high\n",
    "def BCD( l = 0, h = 1):\n",
    "\treturn np.array( [\n",
    "\t\t# A  B  C  D\n",
    "\t\t[ l, l, l, l],\t# 0\n",
    "\t\t[ l, l, l, h],\t# 1\n",
    "\t\t[ l, l, h, l],\t# 2\n",
    "\t\t[ l, l, h, h],\t# 3\n",
    "\t\t[ l, h, l, l],\t# 4\n",
    "\t\t[ l, h, l, h],\t# 5\n",
    "\t\t[ l, h, h, l],\t# 6\n",
    "\t\t[ l, h, h, h],\t# 7\n",
    "\t\t[ h, l, l, l],\t# 8\n",
    "\t\t[ h, l, l, h]\t# 9\n",
    "\t])\n",
    "\n",
    "X_train = BCD()\n",
    "\n",
    "T = np.array( [\n",
    "\t# a  b  c  d  e  f  g\n",
    "\t[ 1, 1, 1, 1, 1, 1, 0],\t# 0\n",
    "\t[ 0, 1, 1, 0, 0, 0, 0],\t# 1 \n",
    "\t[ 1, 1, 0, 1, 1, 0, 1],\t# 2\n",
    "\t[ 1, 1, 1, 1, 0, 0, 1],\t# 3\n",
    "\t[ 0, 1, 1, 0, 0, 1, 1],\t# 4\n",
    "\t[ 1, 0, 1, 1, 0, 1, 1],\t# 5\n",
    "\t[ 1, 0, 1, 1, 1, 1, 1],\t# 6\n",
    "\t[ 1, 1, 1, 0, 0, 0, 0],\t# 7\n",
    "\t[ 1, 1, 1, 1, 1, 1, 1],\t# 8\n",
    "\t[ 1, 1, 1, 1, 0, 1, 1]\t# 9\n",
    "])"
   ]
  },
  {
   "cell_type": "markdown",
   "metadata": {},
   "source": [
    "#### Create and Train Model"
   ]
  },
  {
   "cell_type": "code",
   "execution_count": 5,
   "metadata": {},
   "outputs": [
    {
     "name": "stdout",
     "output_type": "stream",
     "text": [
      "Train score:  1.0\n",
      "Test Set:\n",
      "[[0.15 0.15 0.15 0.15]\n",
      " [0.15 0.15 0.15 0.85]\n",
      " [0.15 0.15 0.85 0.15]\n",
      " [0.15 0.15 0.85 0.85]\n",
      " [0.15 0.85 0.15 0.15]\n",
      " [0.15 0.85 0.15 0.85]\n",
      " [0.15 0.85 0.85 0.15]\n",
      " [0.15 0.85 0.85 0.85]\n",
      " [0.85 0.15 0.15 0.15]\n",
      " [0.85 0.15 0.15 0.85]]\n",
      "Network Prediction:\n",
      "[[1 1 1 1 1 1 0]\n",
      " [0 1 1 0 0 0 0]\n",
      " [1 1 0 1 1 0 1]\n",
      " [1 1 1 1 0 0 1]\n",
      " [0 1 1 0 0 1 1]\n",
      " [1 0 1 1 0 1 1]\n",
      " [1 0 1 1 1 1 1]\n",
      " [1 1 1 0 0 0 0]\n",
      " [1 1 1 1 1 1 1]\n",
      " [1 1 1 1 0 1 1]]\n",
      "Test score: 1.0\n"
     ]
    }
   ],
   "source": [
    "bcd2SS = MLPClassifier(\n",
    "\thidden_layer_sizes=( 4),\n",
    "\tactivation=\"logistic\",\n",
    "\tsolver=\"sgd\",\n",
    "\tlearning_rate=\"constant\",\n",
    "\tlearning_rate_init=1,\n",
    "\tmax_iter=500,\n",
    "\tshuffle=True,\n",
    "\ttol=1e-4\n",
    ")\n",
    "\n",
    "bcd2SS.fit( X_train, T)\n",
    "\n",
    "print( \"Train score: \", bcd2SS.score( X_train, T))\n",
    "\n",
    "X_test = BCD( 0.15, 0.85)\n",
    "\n",
    "print( f\"Test Set:\\n{ X_test}\")\n",
    "print( f\"Network Prediction:\\n{ bcd2SS.predict( X_test)}\")\n",
    "print( f\"Test score: { bcd2SS.score( X_test, T)}\")"
   ]
  }
 ],
 "metadata": {
  "kernelspec": {
   "display_name": "Python 3.8.6 64-bit",
   "language": "python",
   "name": "python3"
  },
  "language_info": {
   "codemirror_mode": {
    "name": "ipython",
    "version": 3
   },
   "file_extension": ".py",
   "mimetype": "text/x-python",
   "name": "python",
   "nbconvert_exporter": "python",
   "pygments_lexer": "ipython3",
   "version": "3.8.6"
  },
  "orig_nbformat": 4,
  "vscode": {
   "interpreter": {
    "hash": "cccb80c535c03ea85c927d83b1212f93133456f0701648b808e4e1f70d2d0413"
   }
  }
 },
 "nbformat": 4,
 "nbformat_minor": 2
}
